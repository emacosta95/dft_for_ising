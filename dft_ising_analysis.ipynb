{
 "cells": [
  {
   "cell_type": "markdown",
   "metadata": {},
   "source": [
    "# Analysis of Density Functional Theory on a 1d Ising Model with 1nn interaction"
   ]
  },
  {
   "cell_type": "markdown",
   "metadata": {},
   "source": [
    "The Hamiltonian is given by\n",
    "\n",
    "$H=J \\sum_i x_i x_{i+1} + \\sum_i h_i z_i $  $\\; \\;$ with $h_i \\in [0,h_{max}]$ and $J<0$"
   ]
  },
  {
   "cell_type": "markdown",
   "metadata": {},
   "source": [
    "## Case a) Scalability of the Functional at different $h_{max}$"
   ]
  },
  {
   "cell_type": "markdown",
   "metadata": {},
   "source": [
    "#### Imports"
   ]
  },
  {
   "cell_type": "code",
   "execution_count": null,
   "metadata": {},
   "outputs": [],
   "source": [
    "import os\n",
    "import time\n",
    "import matplotlib.pyplot as plt\n",
    "import numpy as np\n",
    "import torch\n",
    "import torch.nn as nn\n",
    "from scipy import fft, ifft\n",
    "from tqdm.notebook import tqdm, trange\n",
    "from src.training.utils_analysis import dataloader, nuv_representability_check"
   ]
  },
  {
   "cell_type": "markdown",
   "metadata": {},
   "source": [
    "#### Data"
   ]
  },
  {
   "cell_type": "code",
   "execution_count": null,
   "metadata": {},
   "outputs": [],
   "source": [
    "n_sample=7\n",
    "t_range=[49,49,49,199,199,799,799]\n",
    "h_max=[4.5]*n_sample\n",
    "ls=[16,32,64,128,256,512,1024]\n",
    "n_instances=[100]*n_sample\n",
    "epochs = [[i * 100 for i in range(t_range[j])] for j in range(n_sample)] \n",
    "# model settings\n",
    "name_session=[f'h_{h_max[i]}_150k_augmentation_1nn_model_unet_{ls[i]}_size_2_layers_20_hc_5_ks_2_ps' for i in range(n_sample)]\n",
    "early_stopping=False\n",
    "variational_lr=False\n",
    "loglr=1\n",
    "\n",
    "min_density={}\n",
    "gs_density={}\n",
    "min_energy={}\n",
    "gs_energy={}\n",
    "\n",
    "for i in range(n_sample):\n",
    "    min_eng=[]\n",
    "    gs_eng=[]\n",
    "    min_n=[]\n",
    "    gs_n=[]\n",
    "    for j in range(t_range[i]):    \n",
    "        min_eng_t,gs_eng_t=dataloader('energy',session_name=name_session[i],n_instances=n_instances[i],lr=loglr,diff_soglia=1,epochs=epochs[i][j],early_stopping=False,variable_lr=False,n_ensambles=1)\n",
    "        min_n_t,gs_n_t=dataloader('density',session_name=name_session[i],n_instances=n_instances[i],lr=loglr,diff_soglia=1,epochs=epochs[i][j],early_stopping=False,variable_lr=False,n_ensambles=1)\n",
    "        \n",
    "        min_eng_t=np.asarray(min_eng_t)\n",
    "        gs_eng_t=np.asarray(gs_eng_t)\n",
    "        min_n_t=np.asarray(min_n_t)\n",
    "        gs_n_t=np.asarray(gs_n_t)\n",
    "        \n",
    "        if j==0:\n",
    "            min_eng=min_eng_t.reshape(1,-1)\n",
    "            gs_eng=gs_eng_t.reshape(1,-1)\n",
    "            min_n=min_n_t.reshape(1,-1,ls[i])\n",
    "            gs_n=gs_n_t.reshape(1,-1,ls[i])\n",
    "        else:\n",
    "            #if min_eng_t.shape[0]==min_eng.shape[-1]:\n",
    "            min_eng=np.append(min_eng,min_eng_t.reshape(1,-1),axis=0)\n",
    "            gs_eng=np.append(gs_eng,gs_eng_t.reshape(1,-1),axis=0)\n",
    "            min_n=np.append(min_n,min_n_t.reshape(1,-1,ls[i]),axis=0)\n",
    "            gs_n=np.append(gs_n,gs_n_t.reshape(1,-1,ls[i]),axis=0)\n",
    "            \n",
    "        \n",
    "    # min_eng=np.asarray(min_eng,dtype=object)\n",
    "    # gs_eng=np.asarray(gs_eng,dtype=object)\n",
    "    # min_n=np.asarray(min_n,dtype=object)\n",
    "    # gs_n=np.asarray(gs_n,dtype=object)\n",
    "\n",
    "    min_energy[ls[i]]=min_eng\n",
    "    gs_energy[ls[i]]=gs_eng\n",
    "    min_density[ls[i]]=min_n\n",
    "    gs_density[ls[i]]=gs_n\n",
    "    print(gs_n.shape)"
   ]
  },
  {
   "cell_type": "markdown",
   "metadata": {},
   "source": [
    "#### Convergence of $|\\Delta e|/|e|$ for different sizes"
   ]
  },
  {
   "cell_type": "code",
   "execution_count": null,
   "metadata": {},
   "outputs": [],
   "source": [
    "fig=plt.figure(figsize=(10,10))\n",
    "errors_e=[]\n",
    "sigma_errors_e=[]\n",
    "for l in ls:\n",
    "    print(l)\n",
    "    print(min_energy[l].shape)\n",
    "    print(gs_energy[l].shape)\n",
    "    e_av=np.average(np.abs(min_energy[l]-gs_energy[l])/np.abs(gs_energy[l]),axis=-1)\n",
    "    plt.plot(e_av,label=f'l={l}',linewidth=3)\n",
    "    errors_e.append(e_av[-1])\n",
    "    sigma_errors_e.append(np.std(np.abs(min_energy[l]-gs_energy[l])/np.abs(gs_energy[l]),axis=-1)[-1])\n",
    "plt.legend(fontsize=20)\n",
    "plt.xlabel(r'$t$',fontsize=40)\n",
    "plt.ylabel(r'$\\langle\\frac{\\left| \\Delta e \\right|}{\\left| e \\right|}\\rangle$',fontsize=40)\n",
    "\n",
    "\n",
    "plt.tick_params(\n",
    "            top=True,\n",
    "            right=True,\n",
    "            labeltop=False,\n",
    "            labelright=False,\n",
    "            direction=\"in\",\n",
    "            labelsize=20,\n",
    "            width=5,\n",
    "        )\n",
    "plt.xticks([1000,5000,10000,15000,20000,25000,30000,60000,80000],[r'$10^3$',r'$5 \\cdot 10^3$',r'$10^4$',r'$1.5 \\cdot 10^4$',r'$2 \\cdot 10^4$',r'$2.5 \\cdot 10^4$',r'$3 \\cdot 10^4$',r'$6 \\cdot 10^4 $',r\"$8 \\cdot 10^4$\"])\n",
    "plt.yticks([0.05,0.01,0.005,0.001],[r'$5 \\cdot 10^{-2}$',r'$10^{-2}$',r'$5 \\cdot 10^{-3}$',r'$ 10^{-3}$'])\n",
    "#plt.axhline(10**-5,color='red',linestyle='--',linewidth=2,label=r'$0.001 \\%$ error')\n",
    "plt.loglog()\n",
    "plt.legend(fontsize=20)\n",
    "plt.show()"
   ]
  },
  {
   "cell_type": "markdown",
   "metadata": {},
   "source": [
    "#### Convergence of $\\Delta e/ e$ for different sizes"
   ]
  },
  {
   "cell_type": "code",
   "execution_count": null,
   "metadata": {},
   "outputs": [],
   "source": [
    "fig=plt.figure(figsize=(10,10))\n",
    "for i,l in enumerate(ls):\n",
    "    e_av=np.average((min_energy[l]-gs_energy[l])/np.abs(gs_energy[l]),axis=1)\n",
    "    plt.plot(epochs[i],e_av,label=f'l={l}',linewidth=3)\n",
    "plt.legend(fontsize=20)\n",
    "plt.xlabel(r'$t$',fontsize=40)\n",
    "plt.ylabel(r'$\\langle\\frac{\\Delta e}{ e }\\rangle$',fontsize=40)\n",
    "\n",
    "plt.tick_params(\n",
    "            top=True,\n",
    "            right=True,\n",
    "            labeltop=False,\n",
    "            labelright=False,\n",
    "            direction=\"in\",\n",
    "            labelsize=20,\n",
    "            width=5,\n",
    "        )\n",
    "plt.xticks([0,10000,20000,30000,40000,50000,60000,80000],[r'$0$',r'$1 \\cdot 10^4$',r'$2 \\cdot 10^4$',r'$3 \\cdot 10^4$',r'$4 \\cdot 10^4$',r'$5 \\cdot 10^4$',r'$6 \\cdot 10^4$',r'$8 \\cdot 10^4$'])\n",
    "plt.yticks([0.01,0.005,0.001],[r'$10^{-2}$',r'$5 \\cdot 10^{-3}$',r'$ 10^{-3}$'])\n",
    "plt.axhline(-0.00,color='red',label='zero')\n",
    "plt.axhline(-0.001,color='red',linestyle='--',label=r'$0.1 \\%$ error')\n",
    "#plt.semilogy()\n",
    "plt.legend(fontsize=20)\n",
    "plt.show()"
   ]
  },
  {
   "cell_type": "markdown",
   "metadata": {},
   "source": [
    "#### Convergence of $ |\\Delta z|/ |z| $ for different sizes"
   ]
  },
  {
   "cell_type": "code",
   "execution_count": null,
   "metadata": {},
   "outputs": [],
   "source": [
    "fig=plt.figure(figsize=(10,10))\n",
    "errors_n=[]\n",
    "sigma_errors_n=[]\n",
    "for i,l in enumerate(ls):\n",
    "    dn_av=np.average((np.average(np.abs(min_density[l]-gs_density[l]),axis=-1)/np.average(np.abs(gs_density[l]),axis=-1)),axis=1)\n",
    "    plt.plot(epochs[i],dn_av,label=f'l={l}',linewidth=3)\n",
    "    errors_n.append(dn_av[-1])\n",
    "    sigma_errors_n.append(np.std((np.average(np.abs(min_density[l]-gs_density[l]),axis=-1)/np.average(np.abs(gs_density[l]),axis=-1)),axis=1)[-1])\n",
    "plt.legend(fontsize=20)\n",
    "plt.xlabel(r'$t$',fontsize=40)\n",
    "plt.ylabel(r'$\\langle\\frac{\\left|\\Delta z \\right|}{\\left| z \\right|}\\rangle$',fontsize=40)\n",
    "\n",
    "plt.tick_params(\n",
    "            top=True,\n",
    "            right=True,\n",
    "            labeltop=False,\n",
    "            labelright=False,\n",
    "            direction=\"in\",\n",
    "            labelsize=20,\n",
    "            width=5,\n",
    "        )\n",
    "plt.xticks([0,10000,20000,30000,40000,50000,60000,80000],[r'$0$',r'$1 \\cdot 10^4$',r'$2 \\cdot 10^4$',r'$3 \\cdot 10^4$',r'$4 \\cdot 10^4$',r'$5 \\cdot 10^4$',r'$6 \\cdot 10^4$',r\"$8 \\cdot 10^4$\"])\n",
    "plt.yticks([0.1,0.05,0.01,0.001],[r\"$10^{-1}$\",r'$5 \\cdot 10^{-2}$',r'$10^{-2}$',r'$ 10^{-3}$'])\n",
    "plt.axhline(0.001,color='red',label=r'$0.1 \\%$ error')\n",
    "#plt.semilogy()\n",
    "plt.legend(fontsize=20)\n",
    "plt.show()"
   ]
  },
  {
   "cell_type": "markdown",
   "metadata": {},
   "source": [
    "#### Non unique V-representability issue dfs"
   ]
  }
 ],
 "metadata": {
  "kernelspec": {
   "display_name": "dft_env",
   "language": "python",
   "name": "python3"
  },
  "language_info": {
   "name": "python",
   "version": "3.9.7 (default, Sep 16 2021, 13:09:58) \n[GCC 7.5.0]"
  },
  "orig_nbformat": 4,
  "vscode": {
   "interpreter": {
    "hash": "3416549d97ad3983cc214976bd6ebb80476d6adba7fb7d54f1e9017c835c1c82"
   }
  }
 },
 "nbformat": 4,
 "nbformat_minor": 2
}
