{
 "cells": [
  {
   "cell_type": "markdown",
   "metadata": {},
   "source": [
    "# Accuracy optimization of the DFT U-net"
   ]
  },
  {
   "cell_type": "markdown",
   "metadata": {},
   "source": [
    "We demonstrate that a pure scalability can be reached for both the 1nn and 2nn system. However we can reach accuracies that can be considered low (rel err$=10^{-3}$). For this reason we wonder if we can force the CNN to outperform by increasing the learning capacity in both hidden channels, kernel size and convolutional blocks (without pooling).\n",
    "\n",
    "We consider the 2nn case in the critical point and two datasets with $1.5 \\cdot 10^3$ and $1.5 \\cdot 10^4$ sample.\n",
    "\n"
   ]
  },
  {
   "cell_type": "markdown",
   "metadata": {},
   "source": [
    "#### Imports"
   ]
  },
  {
   "cell_type": "code",
   "execution_count": 1,
   "metadata": {},
   "outputs": [],
   "source": [
    "import os\n",
    "import time\n",
    "\n",
    "import matplotlib.pyplot as plt\n",
    "import numpy as np\n",
    "import torch\n",
    "import torch.nn as nn\n",
    "from scipy import fft, ifft\n",
    "from tqdm.notebook import tqdm, trange\n",
    "from src.training.utils_analysis import test_models_unet"
   ]
  },
  {
   "cell_type": "markdown",
   "metadata": {},
   "source": [
    "## Case a) U-Net with pooling incresing the number of Hidden channels"
   ]
  },
  {
   "cell_type": "markdown",
   "metadata": {},
   "source": [
    "#### Data"
   ]
  },
  {
   "cell_type": "code",
   "execution_count": 15,
   "metadata": {},
   "outputs": [],
   "source": [
    "models_name=['2nn_ising/h_5.44_15k_unet_periodic_augmentation_[20, 40]_hc_5_ks_2_ps_2_nconv_0_nblock','2nn_ising/h_5.44_15k_unet_periodic_augmentation_[40, 80]_hc_5_ks_2_ps_2_nconv_0_nblock','2nn_ising/h_5.44_15k_unet_periodic_augmentation_[80, 160]_hc_5_ks_2_ps_2_nconv_0_nblock']\n",
    "\n",
    "data_path=['data/dataset_2nn/test_unet_periodic_2nn_16_l_5.44_h_100_n.npz']*3\n",
    "\n",
    "hc=[20,40,80]\n",
    "\n",
    "ls=[16,16,16]"
   ]
  },
  {
   "cell_type": "markdown",
   "metadata": {},
   "source": [
    "#### Accuracy analysis"
   ]
  },
  {
   "cell_type": "code",
   "execution_count": 11,
   "metadata": {},
   "outputs": [
    {
     "name": "stdout",
     "output_type": "stream",
     "text": [
      "REDENT(\n",
      "  (conv_downsample): ModuleList(\n",
      "    (0): Sequential(\n",
      "      (conv1): Conv1d(1, 20, kernel_size=(5,), stride=(1,), padding=(2,), padding_mode=circular)\n",
      "      (activation 1): GELU()\n",
      "      (pooling 1): AvgPool1d(kernel_size=(2,), stride=(2,), padding=(0,))\n",
      "    )\n",
      "    (1): Sequential(\n",
      "      (conv2): Conv1d(20, 40, kernel_size=(5,), stride=(1,), padding=(2,), padding_mode=circular)\n",
      "      (activation_2): GELU()\n",
      "      (pooling 2): AvgPool1d(kernel_size=(2,), stride=(2,), padding=(0,))\n",
      "    )\n",
      "  )\n",
      "  (conv_upsample): ModuleList(\n",
      "    (0): Sequential(\n",
      "      (trans_conv1): ConvTranspose1d(40, 20, kernel_size=(6,), stride=(2,), padding=(2,))\n",
      "      (activation 1): GELU()\n",
      "    )\n",
      "    (1): Sequential(\n",
      "      (trans_conv2): ConvTranspose1d(20, 1, kernel_size=(6,), stride=(2,), padding=(2,))\n",
      "    )\n",
      "  )\n",
      "  (Activation): GELU()\n",
      "  (loss): MSELoss()\n",
      ")\n",
      "# parameters=9101\n",
      "R_square_test=0.9998987913131714 for 2nn_ising/h_5.44_15k_unet_periodic_augmentation_[20, 40]_hc_5_ks_2_ps_2_nconv_0_nblock \n",
      "\n",
      "de=0.0005739430305899525 std(de)=0.0004567226154146769\n",
      "REDENT(\n",
      "  (conv_downsample): ModuleList(\n",
      "    (0): Sequential(\n",
      "      (conv1): Conv1d(1, 40, kernel_size=(5,), stride=(1,), padding=(2,), padding_mode=circular)\n",
      "      (activation 1): GELU()\n",
      "      (pooling 1): AvgPool1d(kernel_size=(2,), stride=(2,), padding=(0,))\n",
      "    )\n",
      "    (1): Sequential(\n",
      "      (conv2): Conv1d(40, 80, kernel_size=(5,), stride=(1,), padding=(2,), padding_mode=circular)\n",
      "      (activation_2): GELU()\n",
      "      (pooling 2): AvgPool1d(kernel_size=(2,), stride=(2,), padding=(0,))\n",
      "    )\n",
      "  )\n",
      "  (conv_upsample): ModuleList(\n",
      "    (0): Sequential(\n",
      "      (trans_conv1): ConvTranspose1d(80, 40, kernel_size=(6,), stride=(2,), padding=(2,))\n",
      "      (activation 1): GELU()\n",
      "    )\n",
      "    (1): Sequential(\n",
      "      (trans_conv2): ConvTranspose1d(40, 1, kernel_size=(6,), stride=(2,), padding=(2,))\n",
      "    )\n",
      "  )\n",
      "  (Activation): GELU()\n",
      "  (loss): MSELoss()\n",
      "  (loss_dft): MSELoss()\n",
      ")\n",
      "# parameters=35801\n",
      "R_square_test=0.9999830722808838 for 2nn_ising/h_5.44_15k_unet_periodic_augmentation_[40, 80]_hc_5_ks_2_ps_2_nconv_0_nblock \n",
      "\n",
      "de=0.000233913794665472 std(de)=0.0001881146898925404\n",
      "REDENT(\n",
      "  (conv_downsample): ModuleList(\n",
      "    (0): Sequential(\n",
      "      (conv1): Conv1d(1, 80, kernel_size=(5,), stride=(1,), padding=(2,), padding_mode=circular)\n",
      "      (activation 1): GELU()\n",
      "      (pooling 1): AvgPool1d(kernel_size=(2,), stride=(2,), padding=(0,))\n",
      "    )\n",
      "    (1): Sequential(\n",
      "      (conv2): Conv1d(80, 160, kernel_size=(5,), stride=(1,), padding=(2,), padding_mode=circular)\n",
      "      (activation_2): GELU()\n",
      "      (pooling 2): AvgPool1d(kernel_size=(2,), stride=(2,), padding=(0,))\n",
      "    )\n",
      "  )\n",
      "  (conv_upsample): ModuleList(\n",
      "    (0): Sequential(\n",
      "      (trans_conv1): ConvTranspose1d(160, 80, kernel_size=(6,), stride=(2,), padding=(2,))\n",
      "      (activation 1): GELU()\n",
      "    )\n",
      "    (1): Sequential(\n",
      "      (trans_conv2): ConvTranspose1d(80, 1, kernel_size=(6,), stride=(2,), padding=(2,))\n",
      "    )\n",
      "  )\n",
      "  (Activation): GELU()\n",
      "  (loss): MSELoss()\n",
      "  (loss_dft): MSELoss()\n",
      ")\n",
      "# parameters=142001\n",
      "R_square_test=0.9999890923500061 for 2nn_ising/h_5.44_15k_unet_periodic_augmentation_[80, 160]_hc_5_ks_2_ps_2_nconv_0_nblock \n",
      "\n",
      "de=0.00018397923931177295 std(de)=0.00016253674151184196\n"
     ]
    },
    {
     "name": "stderr",
     "output_type": "stream",
     "text": [
      "/home/ecosta/dft_for_ising/src/training/utils_analysis.py:118: UserWarning: To copy construct from a tensor, it is recommended to use sourceTensor.clone().detach() or sourceTensor.clone().detach().requires_grad_(True), rather than torch.tensor(sourceTensor).\n",
      "  energy = Energy_unet(model, pt.tensor(v, dtype=pt.double))\n"
     ]
    }
   ],
   "source": [
    "r,de,devde=test_models_unet(models_name=models_name,data_path=data_path)"
   ]
  },
  {
   "cell_type": "markdown",
   "metadata": {},
   "source": [
    "#### Plots"
   ]
  },
  {
   "cell_type": "markdown",
   "metadata": {},
   "source": [
    "$R^2$"
   ]
  },
  {
   "cell_type": "code",
   "execution_count": 12,
   "metadata": {},
   "outputs": [
    {
     "data": {
      "image/png": "[encoded data removed]",
      "text/plain": [
       "<Figure size 432x288 with 1 Axes>"
      ]
     },
     "metadata": {
      "needs_background": "light"
     },
     "output_type": "display_data"
    }
   ],
   "source": [
    "plt.plot([20,40,80],r,color='black',marker='o')\n",
    "plt.xlabel('hidden channels',fontsize=20)\n",
    "plt.ylabel(r'$R^2$',fontsize=20)\n",
    "plt.show()"
   ]
  },
  {
   "cell_type": "markdown",
   "metadata": {},
   "source": [
    "Energy"
   ]
  },
  {
   "cell_type": "code",
   "execution_count": 13,
   "metadata": {},
   "outputs": [
    {
     "data": {
      "image/png": "[encoded data removed]",
      "text/plain": [
       "<Figure size 432x288 with 1 Axes>"
      ]
     },
     "metadata": {
      "needs_background": "light"
     },
     "output_type": "display_data"
    }
   ],
   "source": [
    "plt.errorbar([20,40,80],de,yerr=devde,color='black',marker='o')\n",
    "plt.xlabel('hidden channels',fontsize=20)\n",
    "plt.ylabel(r'$\\langle \\langle|e_{gs}-e_{ML}| \\rangle \\rangle$',fontsize=20)\n",
    "plt.show()"
   ]
  },
  {
   "cell_type": "markdown",
   "metadata": {},
   "source": [
    "#### Gradient Analysis"
   ]
  },
  {
   "cell_type": "code",
   "execution_count": 20,
   "metadata": {},
   "outputs": [],
   "source": [
    "ndata=100\n",
    "ms = []\n",
    "vs = []\n",
    "g_acc = []\n",
    "pseudo_pot = []\n",
    "v_acc = []\n",
    "models = []\n",
    "for i in range(len(hc)):\n",
    "    data=np.load(data_path[i])\n",
    "    m=data['density']\n",
    "    v=data['potential']\n",
    "    ms.append(m)\n",
    "    vs.append(v)\n",
    "    model=torch.load(\n",
    "        \"model_rep/\"+models_name[i],\n",
    "        map_location=\"cpu\",\n",
    "    )\n",
    "    models.append(model)\n",
    "    x = m[:ndata]\n",
    "    x = torch.tensor(x, dtype=torch.double)\n",
    "    x.requires_grad_(True)\n",
    "    f = torch.mean(model(x), dim=-1)\n",
    "    # print(f.shape)\n",
    "    f.backward(torch.ones_like(f))\n",
    "    with torch.no_grad():\n",
    "        grad = x.grad\n",
    "        grad = -ls[i] * grad.detach().numpy()\n",
    "        pseudo_pot = grad\n",
    "    # print(grad.shape)\n",
    "    v_acc = np.sqrt(np.average((grad - vs[:ndata]) ** 2, axis=-1)) / np.sqrt(\n",
    "        np.average((v[:ndata]) ** 2, axis=-1)\n",
    "    )\n",
    "    g_acc.append(\n",
    "        np.sqrt(np.average((grad - v[:ndata]) ** 2, axis=-1))\n",
    "        / np.sqrt(np.average((v[:ndata]) ** 2, axis=-1))\n",
    "    )\n",
    "\n",
    "g_acc = [np.average(g) for g in g_acc]\n",
    "    "
   ]
  },
  {
   "cell_type": "markdown",
   "metadata": {},
   "source": [
    "#### Plots"
   ]
  },
  {
   "cell_type": "code",
   "execution_count": 21,
   "metadata": {},
   "outputs": [
    {
     "name": "stdout",
     "output_type": "stream",
     "text": [
      "()\n"
     ]
    },
    {
     "data": {
      "image/png": "[encoded data removed]",
      "text/plain": [
       "<Figure size 432x288 with 1 Axes>"
      ]
     },
     "metadata": {
      "needs_background": "light"
     },
     "output_type": "display_data"
    }
   ],
   "source": [
    "print(g_acc[0].shape)\n",
    "plt.plot(hc,g_acc)\n",
    "plt.show()"
   ]
  },
  {
   "cell_type": "markdown",
   "metadata": {},
   "source": [
    "## Case b) U-Net without pooling incresing the kernel size"
   ]
  },
  {
   "cell_type": "markdown",
   "metadata": {},
   "source": [
    "#### Data"
   ]
  },
  {
   "cell_type": "code",
   "execution_count": 22,
   "metadata": {},
   "outputs": [],
   "source": [
    "models_name=['2nn_ising/h_5.44_15k_unet_periodic_augmentation_[20, 40]_hc_1_ks_2_ps_2_nconv_0_nblock','2nn_ising/h_5.44_15k_unet_periodic_augmentation_[20, 40]_hc_3_ks_2_ps_2_nconv_0_nblock','2nn_ising/h_5.44_15k_unet_periodic_augmentation_[20, 40]_hc_5_ks_2_ps_2_nconv_0_nblock',\n",
    "'2nn_ising/h_5.44_15k_unet_periodic_augmentation_[20, 40]_hc_7_ks_2_ps_2_nconv_0_nblock']\n",
    "\n",
    "data_path=['data/dataset_2nn/test_unet_periodic_2nn_16_l_5.44_h_100_n.npz']*4\n",
    "\n",
    "ks=[1,3,5,7]\n",
    "\n",
    "ls=[16]*4"
   ]
  },
  {
   "cell_type": "markdown",
   "metadata": {},
   "source": [
    "#### Accuracy analysis"
   ]
  },
  {
   "cell_type": "code",
   "execution_count": 23,
   "metadata": {},
   "outputs": [
    {
     "name": "stdout",
     "output_type": "stream",
     "text": [
      "REDENT(\n",
      "  (conv_downsample): ModuleList(\n",
      "    (0): Sequential(\n",
      "      (conv1): Conv1d(1, 20, kernel_size=(1,), stride=(1,), padding_mode=circular)\n",
      "      (activation 1): GELU()\n",
      "      (pooling 1): AvgPool1d(kernel_size=(2,), stride=(2,), padding=(0,))\n",
      "    )\n",
      "    (1): Sequential(\n",
      "      (conv2): Conv1d(20, 40, kernel_size=(1,), stride=(1,), padding_mode=circular)\n",
      "      (activation_2): GELU()\n",
      "      (pooling 2): AvgPool1d(kernel_size=(2,), stride=(2,), padding=(0,))\n",
      "    )\n",
      "  )\n",
      "  (conv_upsample): ModuleList(\n",
      "    (0): Sequential(\n",
      "      (trans_conv1): ConvTranspose1d(40, 20, kernel_size=(2,), stride=(2,))\n",
      "      (activation 1): GELU()\n",
      "    )\n",
      "    (1): Sequential(\n",
      "      (trans_conv2): ConvTranspose1d(20, 1, kernel_size=(2,), stride=(2,))\n",
      "    )\n",
      "  )\n",
      "  (Activation): GELU()\n",
      "  (loss): MSELoss()\n",
      ")\n",
      "# parameters=2541\n",
      "R_square_test=0.9896542429924011 for 2nn_ising/h_5.44_15k_unet_periodic_augmentation_[20, 40]_hc_1_ks_2_ps_2_nconv_0_nblock \n",
      "\n",
      "de=0.00631862403348602 std(de)=0.00463064602942907\n",
      "REDENT(\n",
      "  (conv_downsample): ModuleList(\n",
      "    (0): Sequential(\n",
      "      (conv1): Conv1d(1, 20, kernel_size=(3,), stride=(1,), padding=(1,), padding_mode=circular)\n",
      "      (activation 1): GELU()\n",
      "      (pooling 1): AvgPool1d(kernel_size=(2,), stride=(2,), padding=(0,))\n",
      "    )\n",
      "    (1): Sequential(\n",
      "      (conv2): Conv1d(20, 40, kernel_size=(3,), stride=(1,), padding=(1,), padding_mode=circular)\n",
      "      (activation_2): GELU()\n",
      "      (pooling 2): AvgPool1d(kernel_size=(2,), stride=(2,), padding=(0,))\n",
      "    )\n",
      "  )\n",
      "  (conv_upsample): ModuleList(\n",
      "    (0): Sequential(\n",
      "      (trans_conv1): ConvTranspose1d(40, 20, kernel_size=(4,), stride=(2,), padding=(1,))\n",
      "      (activation 1): GELU()\n",
      "    )\n",
      "    (1): Sequential(\n",
      "      (trans_conv2): ConvTranspose1d(20, 1, kernel_size=(4,), stride=(2,), padding=(1,))\n",
      "    )\n",
      "  )\n",
      "  (Activation): GELU()\n",
      "  (loss): MSELoss()\n",
      ")\n",
      "# parameters=5821\n",
      "R_square_test=0.9999091029167175 for 2nn_ising/h_5.44_15k_unet_periodic_augmentation_[20, 40]_hc_3_ks_2_ps_2_nconv_0_nblock \n",
      "\n",
      "de=0.0005726606024248741 std(de)=0.00043896716885211243\n",
      "REDENT(\n",
      "  (conv_downsample): ModuleList(\n",
      "    (0): Sequential(\n",
      "      (conv1): Conv1d(1, 20, kernel_size=(5,), stride=(1,), padding=(2,), padding_mode=circular)\n",
      "      (activation 1): GELU()\n",
      "      (pooling 1): AvgPool1d(kernel_size=(2,), stride=(2,), padding=(0,))\n",
      "    )\n",
      "    (1): Sequential(\n",
      "      (conv2): Conv1d(20, 40, kernel_size=(5,), stride=(1,), padding=(2,), padding_mode=circular)\n",
      "      (activation_2): GELU()\n",
      "      (pooling 2): AvgPool1d(kernel_size=(2,), stride=(2,), padding=(0,))\n",
      "    )\n",
      "  )\n",
      "  (conv_upsample): ModuleList(\n",
      "    (0): Sequential(\n",
      "      (trans_conv1): ConvTranspose1d(40, 20, kernel_size=(6,), stride=(2,), padding=(2,))\n",
      "      (activation 1): GELU()\n",
      "    )\n",
      "    (1): Sequential(\n",
      "      (trans_conv2): ConvTranspose1d(20, 1, kernel_size=(6,), stride=(2,), padding=(2,))\n",
      "    )\n",
      "  )\n",
      "  (Activation): GELU()\n",
      "  (loss): MSELoss()\n",
      ")\n",
      "# parameters=9101\n",
      "R_square_test=0.9998987913131714 for 2nn_ising/h_5.44_15k_unet_periodic_augmentation_[20, 40]_hc_5_ks_2_ps_2_nconv_0_nblock \n",
      "\n",
      "de=0.0005739430305899525 std(de)=0.0004567226154146769\n",
      "REDENT(\n",
      "  (conv_downsample): ModuleList(\n",
      "    (0): Sequential(\n",
      "      (conv1): Conv1d(1, 20, kernel_size=(7,), stride=(1,), padding=(3,), padding_mode=circular)\n",
      "      (activation 1): GELU()\n",
      "      (pooling 1): AvgPool1d(kernel_size=(2,), stride=(2,), padding=(0,))\n",
      "    )\n",
      "    (1): Sequential(\n",
      "      (conv2): Conv1d(20, 40, kernel_size=(7,), stride=(1,), padding=(3,), padding_mode=circular)\n",
      "      (activation_2): GELU()\n",
      "      (pooling 2): AvgPool1d(kernel_size=(2,), stride=(2,), padding=(0,))\n",
      "    )\n",
      "  )\n",
      "  (conv_upsample): ModuleList(\n",
      "    (0): Sequential(\n",
      "      (trans_conv1): ConvTranspose1d(40, 20, kernel_size=(8,), stride=(2,), padding=(3,))\n",
      "      (activation 1): GELU()\n",
      "    )\n",
      "    (1): Sequential(\n",
      "      (trans_conv2): ConvTranspose1d(20, 1, kernel_size=(8,), stride=(2,), padding=(3,))\n",
      "    )\n",
      "  )\n",
      "  (Activation): GELU()\n",
      "  (loss): MSELoss()\n",
      ")\n",
      "# parameters=12381\n",
      "R_square_test=0.9999033808708191 for 2nn_ising/h_5.44_15k_unet_periodic_augmentation_[20, 40]_hc_7_ks_2_ps_2_nconv_0_nblock \n",
      "\n",
      "de=0.0006313440112459006 std(de)=0.0003806076724551388\n"
     ]
    },
    {
     "name": "stderr",
     "output_type": "stream",
     "text": [
      "/home/ecosta/dft_for_ising/src/training/utils_analysis.py:118: UserWarning: To copy construct from a tensor, it is recommended to use sourceTensor.clone().detach() or sourceTensor.clone().detach().requires_grad_(True), rather than torch.tensor(sourceTensor).\n",
      "  energy = Energy_unet(model, pt.tensor(v, dtype=pt.double))\n"
     ]
    }
   ],
   "source": [
    "r,de,devde=test_models_unet(models_name=models_name,data_path=data_path)"
   ]
  },
  {
   "cell_type": "markdown",
   "metadata": {},
   "source": [
    "#### Plots"
   ]
  },
  {
   "cell_type": "markdown",
   "metadata": {},
   "source": [
    "$R^2$"
   ]
  },
  {
   "cell_type": "code",
   "execution_count": 26,
   "metadata": {},
   "outputs": [
    {
     "data": {
      "image/png": "[encoded data removed]",
      "text/plain": [
       "<Figure size 432x288 with 1 Axes>"
      ]
     },
     "metadata": {
      "needs_background": "light"
     },
     "output_type": "display_data"
    }
   ],
   "source": [
    "plt.plot(ks,r,color='black',marker='o')\n",
    "plt.xlabel('kernel size',fontsize=20)\n",
    "plt.ylabel(r'$R^2$',fontsize=20)\n",
    "plt.show()"
   ]
  },
  {
   "cell_type": "markdown",
   "metadata": {},
   "source": [
    "Energy"
   ]
  },
  {
   "cell_type": "code",
   "execution_count": 28,
   "metadata": {},
   "outputs": [
    {
     "data": {
      "image/png": "[encoded data removed]",
      "text/plain": [
       "<Figure size 432x288 with 1 Axes>"
      ]
     },
     "metadata": {
      "needs_background": "light"
     },
     "output_type": "display_data"
    }
   ],
   "source": [
    "plt.errorbar(ks,de,yerr=devde,color='black',marker='o')\n",
    "plt.xlabel('hidden channels',fontsize=20)\n",
    "plt.ylabel(r'$\\langle \\langle|e_{gs}-e_{ML}| \\rangle \\rangle$',fontsize=20)\n",
    "plt.show()"
   ]
  },
  {
   "cell_type": "markdown",
   "metadata": {},
   "source": [
    "#### Gradient Analysis"
   ]
  },
  {
   "cell_type": "code",
   "execution_count": 35,
   "metadata": {},
   "outputs": [],
   "source": [
    "ndata=100\n",
    "ms = []\n",
    "vs = []\n",
    "g_acc = []\n",
    "pseudo_pot = []\n",
    "v_acc = []\n",
    "models = []\n",
    "for i in range(len(ks)):\n",
    "    data=np.load(data_path[i])\n",
    "    m=data['density']\n",
    "    v=data['potential']\n",
    "    ms.append(m)\n",
    "    vs.append(v)\n",
    "    model=torch.load(\n",
    "        \"model_rep/\"+models_name[i],\n",
    "        map_location=\"cpu\",\n",
    "    )\n",
    "    models.append(model)\n",
    "    x = m[:ndata]\n",
    "    x = torch.tensor(x, dtype=torch.double)\n",
    "    x.requires_grad_(True)\n",
    "    f = torch.mean(model(x), dim=-1)\n",
    "    # print(f.shape)\n",
    "    f.backward(torch.ones_like(f))\n",
    "    with torch.no_grad():\n",
    "        grad = x.grad\n",
    "        grad = -ls[i] * grad.detach().numpy()\n",
    "        pseudo_pot = grad\n",
    "    # print(grad.shape)\n",
    "    v_acc = np.sqrt(np.average((grad - vs[:ndata]) ** 2, axis=-1)) / np.sqrt(\n",
    "        np.average((v[:ndata]) ** 2, axis=-1)\n",
    "    )\n",
    "    g_acc.append(\n",
    "        np.sqrt(np.average((grad - v[:ndata]) ** 2, axis=-1))\n",
    "        / np.sqrt(np.average((v[:ndata]) ** 2, axis=-1))\n",
    "    )\n",
    "\n",
    "g_acc = [np.average(g) for g in g_acc]\n",
    "    "
   ]
  },
  {
   "cell_type": "markdown",
   "metadata": {},
   "source": [
    "#### Plots"
   ]
  },
  {
   "cell_type": "code",
   "execution_count": 36,
   "metadata": {},
   "outputs": [
    {
     "name": "stdout",
     "output_type": "stream",
     "text": [
      "()\n"
     ]
    },
    {
     "data": {
      "image/png": "[encoded data removed]",
      "text/plain": [
       "<Figure size 432x288 with 1 Axes>"
      ]
     },
     "metadata": {
      "needs_background": "light"
     },
     "output_type": "display_data"
    }
   ],
   "source": [
    "print(g_acc[0].shape)\n",
    "plt.plot(ks,g_acc)\n",
    "plt.show()"
   ]
  },
  {
   "cell_type": "markdown",
   "metadata": {},
   "source": [
    "## Case c) U-Net without pooling size: a study for different kernel sizes"
   ]
  },
  {
   "cell_type": "markdown",
   "metadata": {},
   "source": [
    "#### Data"
   ]
  },
  {
   "cell_type": "code",
   "execution_count": 67,
   "metadata": {},
   "outputs": [],
   "source": [
    "models_name=['2nn_ising/h_5.44_15k_unet_periodic_augmentation_[40, 40]_hc_1_ks_1_ps_2_nconv_0_nblock',\n",
    "             '2nn_ising/h_5.44_15k_unet_periodic_augmentation_[40, 40]_hc_3_ks_1_ps_2_nconv_0_nblock',\n",
    "             '2nn_ising/h_5.44_15k_unet_periodic_augmentation_[40, 40]_hc_5_ks_1_ps_2_nconv_0_nblock',\n",
    "             '2nn_ising/h_5.44_15k_unet_periodic_augmentation_[40, 40]_hc_7_ks_1_ps_2_nconv_0_nblock',\n",
    "             '2nn_ising/h_5.44_15k_unet_periodic_augmentation_[40, 40]_hc_9_ks_1_ps_2_nconv_0_nblock',\n",
    "             '2nn_ising/h_5.44_15k_unet_periodic_augmentation_[40, 40]_hc_11_ks_1_ps_2_nconv_0_nblock']\n",
    "\n",
    "\n",
    "ks=[1,3,5,7,9,11]\n",
    "\n",
    "ls=[16]*len( ks)\n",
    "\n",
    "\n",
    "data_path=['data/dataset_2nn/test_unet_periodic_2nn_16_l_5.44_h_100_n.npz']*len(ks)"
   ]
  },
  {
   "cell_type": "markdown",
   "metadata": {},
   "source": [
    "#### Accuracy"
   ]
  },
  {
   "cell_type": "code",
   "execution_count": 68,
   "metadata": {},
   "outputs": [
    {
     "name": "stdout",
     "output_type": "stream",
     "text": [
      "REDENTnopooling(\n",
      "  (conv_downsample): ModuleList(\n",
      "    (0): Sequential(\n",
      "      (conv1): Conv1d(1, 40, kernel_size=(1,), stride=(1,), padding_mode=circular)\n",
      "      (activation 1): GELU()\n",
      "    )\n",
      "    (1): Sequential(\n",
      "      (conv2): Conv1d(40, 40, kernel_size=(1,), stride=(1,), padding_mode=circular)\n",
      "      (activation_2): GELU()\n",
      "    )\n",
      "  )\n",
      "  (conv_upsample): ModuleList(\n",
      "    (0): Sequential(\n",
      "      (trans_conv1): Conv1d(40, 40, kernel_size=(1,), stride=(1,), padding_mode=circular)\n",
      "      (activation 1): GELU()\n",
      "    )\n",
      "    (1): Sequential(\n",
      "      (trans_conv2): Conv1d(40, 1, kernel_size=(1,), stride=(1,))\n",
      "    )\n",
      "  )\n",
      "  (Activation): GELU()\n",
      "  (loss): MSELoss()\n",
      "  (loss_dft): MSELoss()\n",
      ")\n",
      "# parameters=3401\n",
      "R_square_test=0.9303698539733887 for 2nn_ising/h_5.44_15k_unet_periodic_augmentation_[40, 40]_hc_1_ks_1_ps_2_nconv_0_nblock \n",
      "\n",
      "de=0.01704405142089355 std(de)=0.011814007805344107\n",
      "REDENTnopooling(\n",
      "  (conv_downsample): ModuleList(\n",
      "    (0): Sequential(\n",
      "      (conv1): Conv1d(1, 40, kernel_size=(3,), stride=(1,), padding=(1,), padding_mode=circular)\n",
      "      (activation 1): GELU()\n",
      "    )\n",
      "    (1): Sequential(\n",
      "      (conv2): Conv1d(40, 40, kernel_size=(3,), stride=(1,), padding=(1,), padding_mode=circular)\n",
      "      (activation_2): GELU()\n",
      "    )\n",
      "  )\n",
      "  (conv_upsample): ModuleList(\n",
      "    (0): Sequential(\n",
      "      (trans_conv1): Conv1d(40, 40, kernel_size=(3,), stride=(1,), padding=(1,), padding_mode=circular)\n",
      "      (activation 1): GELU()\n",
      "    )\n",
      "    (1): Sequential(\n",
      "      (trans_conv2): Conv1d(40, 1, kernel_size=(3,), stride=(1,), padding=(1,))\n",
      "    )\n",
      "  )\n",
      "  (Activation): GELU()\n",
      "  (loss): MSELoss()\n",
      "  (loss_dft): MSELoss()\n",
      ")\n",
      "# parameters=9961\n",
      "R_square_test=0.99997478723526 for 2nn_ising/h_5.44_15k_unet_periodic_augmentation_[40, 40]_hc_3_ks_1_ps_2_nconv_0_nblock \n",
      "\n",
      "de=0.0002542893707701718 std(de)=0.00025757720312498264\n",
      "REDENTnopooling(\n",
      "  (conv_downsample): ModuleList(\n",
      "    (0): Sequential(\n",
      "      (conv1): Conv1d(1, 40, kernel_size=(5,), stride=(1,), padding=(2,), padding_mode=circular)\n",
      "      (activation 1): GELU()\n",
      "    )\n",
      "    (1): Sequential(\n",
      "      (conv2): Conv1d(40, 40, kernel_size=(5,), stride=(1,), padding=(2,), padding_mode=circular)\n",
      "      (activation_2): GELU()\n",
      "    )\n",
      "  )\n",
      "  (conv_upsample): ModuleList(\n",
      "    (0): Sequential(\n",
      "      (trans_conv1): Conv1d(40, 40, kernel_size=(5,), stride=(1,), padding=(2,), padding_mode=circular)\n",
      "      (activation 1): GELU()\n",
      "    )\n",
      "    (1): Sequential(\n",
      "      (trans_conv2): Conv1d(40, 1, kernel_size=(5,), stride=(1,), padding=(2,))\n",
      "    )\n",
      "  )\n",
      "  (Activation): GELU()\n",
      "  (loss): MSELoss()\n",
      "  (loss_dft): MSELoss()\n",
      ")\n",
      "# parameters=16521\n",
      "R_square_test=0.9999983906745911 for 2nn_ising/h_5.44_15k_unet_periodic_augmentation_[40, 40]_hc_5_ks_1_ps_2_nconv_0_nblock \n",
      "\n",
      "de=6.589498515328067e-05 std(de)=6.120556790270633e-05\n",
      "REDENTnopooling(\n",
      "  (conv_downsample): ModuleList(\n",
      "    (0): Sequential(\n",
      "      (conv1): Conv1d(1, 40, kernel_size=(7,), stride=(1,), padding=(3,), padding_mode=circular)\n",
      "      (activation 1): GELU()\n",
      "    )\n",
      "    (1): Sequential(\n",
      "      (conv2): Conv1d(40, 40, kernel_size=(7,), stride=(1,), padding=(3,), padding_mode=circular)\n",
      "      (activation_2): GELU()\n",
      "    )\n",
      "  )\n",
      "  (conv_upsample): ModuleList(\n",
      "    (0): Sequential(\n",
      "      (trans_conv1): Conv1d(40, 40, kernel_size=(7,), stride=(1,), padding=(3,), padding_mode=circular)\n",
      "      (activation 1): GELU()\n",
      "    )\n",
      "    (1): Sequential(\n",
      "      (trans_conv2): Conv1d(40, 1, kernel_size=(7,), stride=(1,), padding=(3,))\n",
      "    )\n",
      "  )\n",
      "  (Activation): GELU()\n",
      "  (loss): MSELoss()\n",
      "  (loss_dft): MSELoss()\n",
      ")\n",
      "# parameters=23081\n",
      "R_square_test=0.9999977350234985 for 2nn_ising/h_5.44_15k_unet_periodic_augmentation_[40, 40]_hc_7_ks_1_ps_2_nconv_0_nblock \n",
      "\n",
      "de=9.2326672707861e-05 std(de)=6.095247915871983e-05\n",
      "REDENTnopooling(\n",
      "  (conv_downsample): ModuleList(\n",
      "    (0): Sequential(\n",
      "      (conv1): Conv1d(1, 40, kernel_size=(9,), stride=(1,), padding=(4,), padding_mode=circular)\n",
      "      (activation 1): GELU()\n",
      "    )\n",
      "    (1): Sequential(\n",
      "      (conv2): Conv1d(40, 40, kernel_size=(9,), stride=(1,), padding=(4,), padding_mode=circular)\n",
      "      (activation_2): GELU()\n",
      "    )\n",
      "  )\n",
      "  (conv_upsample): ModuleList(\n",
      "    (0): Sequential(\n",
      "      (trans_conv1): Conv1d(40, 40, kernel_size=(9,), stride=(1,), padding=(4,), padding_mode=circular)\n",
      "      (activation 1): GELU()\n",
      "    )\n",
      "    (1): Sequential(\n",
      "      (trans_conv2): Conv1d(40, 1, kernel_size=(9,), stride=(1,), padding=(4,))\n",
      "    )\n",
      "  )\n",
      "  (Activation): GELU()\n",
      "  (loss): MSELoss()\n",
      "  (loss_dft): MSELoss()\n",
      ")\n",
      "# parameters=29641\n",
      "R_square_test=0.9999974966049194 for 2nn_ising/h_5.44_15k_unet_periodic_augmentation_[40, 40]_hc_9_ks_1_ps_2_nconv_0_nblock \n",
      "\n",
      "de=8.890216528765673e-05 std(de)=7.065102629857717e-05\n",
      "REDENTnopooling(\n",
      "  (conv_downsample): ModuleList(\n",
      "    (0): Sequential(\n",
      "      (conv1): Conv1d(1, 40, kernel_size=(11,), stride=(1,), padding=(5,), padding_mode=circular)\n",
      "      (activation 1): GELU()\n",
      "    )\n",
      "    (1): Sequential(\n",
      "      (conv2): Conv1d(40, 40, kernel_size=(11,), stride=(1,), padding=(5,), padding_mode=circular)\n",
      "      (activation_2): GELU()\n",
      "    )\n",
      "  )\n",
      "  (conv_upsample): ModuleList(\n",
      "    (0): Sequential(\n",
      "      (trans_conv1): Conv1d(40, 40, kernel_size=(11,), stride=(1,), padding=(5,), padding_mode=circular)\n",
      "      (activation 1): GELU()\n",
      "    )\n",
      "    (1): Sequential(\n",
      "      (trans_conv2): Conv1d(40, 1, kernel_size=(11,), stride=(1,), padding=(5,))\n",
      "    )\n",
      "  )\n",
      "  (Activation): GELU()\n",
      "  (loss): MSELoss()\n",
      "  (loss_dft): MSELoss()\n",
      ")\n",
      "# parameters=36201\n",
      "R_square_test=0.9999970197677612 for 2nn_ising/h_5.44_15k_unet_periodic_augmentation_[40, 40]_hc_11_ks_1_ps_2_nconv_0_nblock \n",
      "\n",
      "de=9.281166693790391e-05 std(de)=8.781098136459063e-05\n"
     ]
    },
    {
     "name": "stderr",
     "output_type": "stream",
     "text": [
      "/home/ecosta/dft_for_ising/src/training/utils_analysis.py:118: UserWarning: To copy construct from a tensor, it is recommended to use sourceTensor.clone().detach() or sourceTensor.clone().detach().requires_grad_(True), rather than torch.tensor(sourceTensor).\n",
      "  energy = Energy_unet(model, pt.tensor(v, dtype=pt.double))\n"
     ]
    }
   ],
   "source": [
    "r,de,devde=test_models_unet(models_name=models_name,data_path=data_path)"
   ]
  },
  {
   "cell_type": "markdown",
   "metadata": {},
   "source": [
    "$R^2$"
   ]
  },
  {
   "cell_type": "code",
   "execution_count": 69,
   "metadata": {},
   "outputs": [
    {
     "data": {
      "image/png": "[encoded data removed]",
      "text/plain": [
       "<Figure size 432x288 with 1 Axes>"
      ]
     },
     "metadata": {
      "needs_background": "light"
     },
     "output_type": "display_data"
    }
   ],
   "source": [
    "plt.plot(ks[1:],r[1:],color='black',marker='o')\n",
    "\n",
    "plt.xlabel('kernel size',fontsize=20)\n",
    "plt.ylabel(r'$R^2$',fontsize=20)\n",
    "plt.show()"
   ]
  },
  {
   "cell_type": "markdown",
   "metadata": {},
   "source": [
    "Energy"
   ]
  },
  {
   "cell_type": "code",
   "execution_count": 70,
   "metadata": {},
   "outputs": [
    {
     "data": {
      "image/png": "[encoded data removed]",
      "text/plain": [
       "<Figure size 432x288 with 1 Axes>"
      ]
     },
     "metadata": {
      "needs_background": "light"
     },
     "output_type": "display_data"
    }
   ],
   "source": [
    "plt.errorbar(ks,de,yerr=devde,color='black',marker='o')\n",
    "plt.loglog()\n",
    "plt.xlabel('kernel size',fontsize=20)\n",
    "plt.ylabel(r'$\\langle \\langle|e_{gs}-e_{ML}| \\rangle \\rangle$',fontsize=20)\n",
    "plt.show()"
   ]
  },
  {
   "cell_type": "markdown",
   "metadata": {},
   "source": [
    "#### Gradient Accuracy"
   ]
  },
  {
   "cell_type": "code",
   "execution_count": 71,
   "metadata": {},
   "outputs": [],
   "source": [
    "ndata=100\n",
    "ms = []\n",
    "vs = []\n",
    "g_acc = []\n",
    "pseudo_pot = []\n",
    "v_acc = []\n",
    "models = []\n",
    "for i in range(len(ks)):\n",
    "    data=np.load(data_path[i])\n",
    "    m=data['density']\n",
    "    v=data['potential']\n",
    "    ms.append(m)\n",
    "    vs.append(v)\n",
    "    model=torch.load(\n",
    "        \"model_rep/\"+models_name[i],\n",
    "        map_location=\"cpu\",\n",
    "    )\n",
    "    models.append(model)\n",
    "    x = m[:ndata]\n",
    "    x = torch.tensor(x, dtype=torch.double)\n",
    "    x.requires_grad_(True)\n",
    "    f = torch.mean(model(x), dim=-1)\n",
    "    # print(f.shape)\n",
    "    f.backward(torch.ones_like(f))\n",
    "    with torch.no_grad():\n",
    "        grad = x.grad\n",
    "        grad = -ls[i] * grad.detach().numpy()\n",
    "        pseudo_pot = grad\n",
    "    # print(grad.shape)\n",
    "    v_acc = np.sqrt(np.average((grad - vs[:ndata]) ** 2, axis=-1)) / np.sqrt(\n",
    "        np.average((v[:ndata]) ** 2, axis=-1)\n",
    "    )\n",
    "    g_acc.append(\n",
    "        np.sqrt(np.average((grad - v[:ndata]) ** 2, axis=-1))\n",
    "        / np.sqrt(np.average((v[:ndata]) ** 2, axis=-1))\n",
    "    )\n",
    "\n",
    "g_acc = [np.average(g) for g in g_acc]"
   ]
  },
  {
   "cell_type": "markdown",
   "metadata": {},
   "source": [
    "#### Plot"
   ]
  },
  {
   "cell_type": "code",
   "execution_count": 73,
   "metadata": {},
   "outputs": [
    {
     "name": "stdout",
     "output_type": "stream",
     "text": [
      "()\n"
     ]
    },
    {
     "data": {
      "image/png": "[encoded data removed]",
      "text/plain": [
       "<Figure size 432x288 with 1 Axes>"
      ]
     },
     "metadata": {
      "needs_background": "light"
     },
     "output_type": "display_data"
    }
   ],
   "source": [
    "print(g_acc[0].shape)\n",
    "plt.plot(ks[1:],g_acc[1:],color='black',marker='o')\n",
    "plt.xlabel('kernel size',fontsize=20)\n",
    "plt.ylabel(r'$\\langle \\langle |\\Delta \\frac{\\partial F}{\\partial z_i} |/|\\frac{\\partial F}{\\partial z_i}| \\rangle \\rangle$',fontsize=20)\n",
    "plt.show()"
   ]
  },
  {
   "cell_type": "markdown",
   "metadata": {},
   "source": [
    "## Case b) U-Net without pooling incresing the number of convolutional blocks"
   ]
  },
  {
   "cell_type": "markdown",
   "metadata": {},
   "source": [
    "#### Data"
   ]
  },
  {
   "cell_type": "code",
   "execution_count": null,
   "metadata": {},
   "outputs": [],
   "source": []
  },
  {
   "cell_type": "markdown",
   "metadata": {},
   "source": [
    "#### Accuracy"
   ]
  },
  {
   "cell_type": "markdown",
   "metadata": {},
   "source": []
  },
  {
   "cell_type": "markdown",
   "metadata": {},
   "source": [
    "$R^2$"
   ]
  }
 ],
 "metadata": {
  "kernelspec": {
   "display_name": "dft_env",
   "language": "python",
   "name": "python3"
  },
  "language_info": {
   "codemirror_mode": {
    "name": "ipython",
    "version": 3
   },
   "file_extension": ".py",
   "mimetype": "text/x-python",
   "name": "python",
   "nbconvert_exporter": "python",
   "pygments_lexer": "ipython3",
   "version": "3.9.7"
  },
  "orig_nbformat": 4,
  "vscode": {
   "interpreter": {
    "hash": "3416549d97ad3983cc214976bd6ebb80476d6adba7fb7d54f1e9017c835c1c82"
   }
  }
 },
 "nbformat": 4,
 "nbformat_minor": 2
}
