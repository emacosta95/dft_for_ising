{
 "cells": [
  {
   "cell_type": "markdown",
   "metadata": {},
   "source": [
    "# DFT-ML method to Catching the Phase transition in the 1nn Model"
   ]
  },
  {
   "cell_type": "markdown",
   "metadata": {},
   "source": [
    "We show how it is possible to catch phase transition by using a Machine Learning Approach to Density Functional Theory"
   ]
  },
  {
   "cell_type": "markdown",
   "metadata": {},
   "source": [
    "#### Imports"
   ]
  },
  {
   "cell_type": "code",
   "execution_count": 3,
   "metadata": {},
   "outputs": [],
   "source": [
    "import os\n",
    "import time\n",
    "import matplotlib.pyplot as plt\n",
    "import numpy as np\n",
    "import torch\n",
    "import torch.nn as nn\n",
    "from scipy import fft, ifft\n",
    "from tqdm.notebook import tqdm, trange\n",
    "from src.training.utils_analysis import dataloader, nuv_representability_check,mean_field_functional_1nn"
   ]
  },
  {
   "cell_type": "markdown",
   "metadata": {},
   "source": [
    "#### Data"
   ]
  },
  {
   "cell_type": "code",
   "execution_count": 16,
   "metadata": {},
   "outputs": [
    {
     "name": "stderr",
     "output_type": "stream",
     "text": [
      "/tmp/ipykernel_3668174/4034563651.py:34: VisibleDeprecationWarning: Creating an ndarray from ragged nested sequences (which is a list-or-tuple of lists-or-tuples-or ndarrays with different lengths or shapes) is deprecated. If you meant to do this, you must specify 'dtype=object' when creating the ndarray.\n",
      "  min_energy=np.asarray(min_energy)\n",
      "/tmp/ipykernel_3668174/4034563651.py:35: VisibleDeprecationWarning: Creating an ndarray from ragged nested sequences (which is a list-or-tuple of lists-or-tuples-or ndarrays with different lengths or shapes) is deprecated. If you meant to do this, you must specify 'dtype=object' when creating the ndarray.\n",
      "  gs_energy=np.asarray(gs_energy)\n",
      "/tmp/ipykernel_3668174/4034563651.py:36: VisibleDeprecationWarning: Creating an ndarray from ragged nested sequences (which is a list-or-tuple of lists-or-tuples-or ndarrays with different lengths or shapes) is deprecated. If you meant to do this, you must specify 'dtype=object' when creating the ndarray.\n",
      "  min_density=np.asarray(min_density)\n",
      "/tmp/ipykernel_3668174/4034563651.py:37: VisibleDeprecationWarning: Creating an ndarray from ragged nested sequences (which is a list-or-tuple of lists-or-tuples-or ndarrays with different lengths or shapes) is deprecated. If you meant to do this, you must specify 'dtype=object' when creating the ndarray.\n",
      "  gs_density=np.asarray(gs_density)\n"
     ]
    }
   ],
   "source": [
    "n_sample=5\n",
    "h_max=[1.0,1.8,2.7,3.6,4.5]\n",
    "ls=[512]*n_sample\n",
    "n_instances=[100]*n_sample\n",
    "epochs = [39900]*n_sample \n",
    "# model settings\n",
    "name_session=[f'h_{h_max[i]}_150k_augmentation_1nn_model_unet_{ls[i]}_size_2_layers_20_hc_5_ks_2_ps' for i in range(n_sample)]\n",
    "early_stopping=False\n",
    "variational_lr=False\n",
    "loglr=1\n",
    "\n",
    "min_density=[]\n",
    "gs_density=[]\n",
    "min_energy=[]\n",
    "gs_energy=[]\n",
    "hs=[]\n",
    "\n",
    "for i in range(n_sample):\n",
    "    hs.append(np.load(f'data/dataset_1nn/valid_unet_periodic_{ls[i]}_l_{h_max[i]}_h_15000_n.npz')['potential'][0:n_instances[i]])\n",
    "    min_eng_t,gs_eng_t=dataloader('energy',session_name=name_session[i],n_instances=n_instances[i],lr=loglr,diff_soglia=1,epochs=epochs[i],early_stopping=False,variable_lr=False,n_ensambles=1)\n",
    "    min_n_t,gs_n_t=dataloader('density',session_name=name_session[i],n_instances=n_instances[i],lr=loglr,diff_soglia=1,epochs=epochs[i],early_stopping=False,variable_lr=False,n_ensambles=1)\n",
    "    \n",
    "    min_eng_t=np.asarray(min_eng_t)\n",
    "    gs_eng_t=np.asarray(gs_eng_t)\n",
    "    min_n_t=np.asarray(min_n_t)\n",
    "    gs_n_t=np.asarray(gs_n_t)\n",
    "    \n",
    "            #if min_eng_t.shape[0]==min_eng.shape[-1]:\n",
    "    min_energy.append(min_eng_t)\n",
    "    gs_energy.append(gs_eng_t)\n",
    "    min_density.append(min_n_t)\n",
    "    gs_density.append(gs_n_t)\n",
    "    \n",
    "min_energy=np.asarray(min_energy)\n",
    "gs_energy=np.asarray(gs_energy)\n",
    "min_density=np.asarray(min_density)\n",
    "gs_density=np.asarray(gs_density)    "
   ]
  },
  {
   "cell_type": "markdown",
   "metadata": {},
   "source": [
    "## Phase Diagram by DFT results"
   ]
  },
  {
   "cell_type": "markdown",
   "metadata": {},
   "source": [
    "#### Data"
   ]
  },
  {
   "cell_type": "code",
   "execution_count": 25,
   "metadata": {},
   "outputs": [
    {
     "name": "stdout",
     "output_type": "stream",
     "text": [
      "0\n",
      "1\n",
      "2\n",
      "3\n",
      "4\n",
      "0\n",
      "1\n",
      "2\n",
      "3\n",
      "4\n"
     ]
    }
   ],
   "source": [
    "xs_ml={} # sigma_x ml\n",
    "m_n_ml=[]\n",
    "for i in range(len(h_max)):\n",
    "    print(i)\n",
    "    # load the data\n",
    "    # input\n",
    "    z=torch.tensor(gs_density[i],dtype=torch.double)\n",
    "    # load the model and compute xs_ml\n",
    "    model=torch.load(f'model_rep/1nn_den2magn/h_{h_max[i]:.1f}_15k_unet_periodic_den2magn_[20, 40]_hc_5_ks_2_ps_2_nconv_0_nblock',map_location='cpu')\n",
    "    x_ml=model(z).detach().numpy()\n",
    "    xs_ml[h_max[i]]=np.abs(x_ml)\n",
    "    m_n_ml.append(np.average(np.abs(x_ml)))\n",
    "m_n_ml=np.asarray(m_n_ml)\n",
    "\n",
    "xs_dft={} # sigma_x ml\n",
    "m_n_dft=[]\n",
    "for i in range(len(h_max)):\n",
    "    print(i)\n",
    "    # load the data\n",
    "    # input\n",
    "    z=torch.tensor(min_density[i],dtype=torch.double)\n",
    "    # load the model and compute xs_ml\n",
    "    model=torch.load(f'model_rep/1nn_den2magn/h_{h_max[i]:.1f}_15k_unet_periodic_den2magn_[20, 40]_hc_5_ks_2_ps_2_nconv_0_nblock',map_location='cpu')\n",
    "    x_dft=model(z).detach().numpy()\n",
    "    xs_dft[h_max[i]]=np.abs(x_dft)\n",
    "    m_n_dft.append(np.average(np.abs(x_dft)))\n",
    "m_n_dft=np.asarray(m_n_dft)\n",
    "\n"
   ]
  },
  {
   "cell_type": "markdown",
   "metadata": {},
   "source": [
    "#### Synthetic Phase Diagram"
   ]
  },
  {
   "cell_type": "code",
   "execution_count": 26,
   "metadata": {},
   "outputs": [
    {
     "data": {
      "image/png": "[encoded data removed]",
      "text/plain": [
       "<Figure size 432x288 with 1 Axes>"
      ]
     },
     "metadata": {
      "needs_background": "light"
     },
     "output_type": "display_data"
    }
   ],
   "source": [
    "plt.plot(h_max,m_n_ml)\n",
    "plt.plot(h_max,m_n_dft)\n",
    "plt.show()"
   ]
  }
 ],
 "metadata": {
  "kernelspec": {
   "display_name": "dft_env",
   "language": "python",
   "name": "python3"
  },
  "language_info": {
   "codemirror_mode": {
    "name": "ipython",
    "version": 3
   },
   "file_extension": ".py",
   "mimetype": "text/x-python",
   "name": "python",
   "nbconvert_exporter": "python",
   "pygments_lexer": "ipython3",
   "version": "3.9.7 (default, Sep 16 2021, 13:09:58) \n[GCC 7.5.0]"
  },
  "orig_nbformat": 4,
  "vscode": {
   "interpreter": {
    "hash": "3416549d97ad3983cc214976bd6ebb80476d6adba7fb7d54f1e9017c835c1c82"
   }
  }
 },
 "nbformat": 4,
 "nbformat_minor": 2
}
