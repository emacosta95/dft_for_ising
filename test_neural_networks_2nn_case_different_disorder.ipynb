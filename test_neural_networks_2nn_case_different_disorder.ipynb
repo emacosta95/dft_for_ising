{
 "cells": [
  {
   "cell_type": "markdown",
   "metadata": {},
   "source": [
    "# Test the neural network for different disorder Configurations"
   ]
  },
  {
   "cell_type": "markdown",
   "metadata": {},
   "source": [
    "#### Imports"
   ]
  },
  {
   "cell_type": "code",
   "execution_count": 2,
   "metadata": {},
   "outputs": [],
   "source": [
    "import os\n",
    "import time\n",
    "import matplotlib.pyplot as plt\n",
    "import numpy as np\n",
    "import torch\n",
    "import torch.nn as nn\n",
    "from scipy import fft, ifft\n",
    "from tqdm.notebook import tqdm, trange\n",
    "from src.training.utils_analysis import dataloader, nuv_representability_check,mean_field_functional_1nn\n",
    "from src.training.utils_analysis import test_models_unet"
   ]
  },
  {
   "cell_type": "markdown",
   "metadata": {},
   "source": [
    "#### Data"
   ]
  },
  {
   "cell_type": "code",
   "execution_count": 35,
   "metadata": {},
   "outputs": [],
   "source": [
    "hs=[2.4,3.6,5.44,7.2,8.4]\n",
    "models_name=[f'2nn_ising/h_{h}_15k_unet_periodic_augmentation_[40, 40, 40, 40]_hc_5_ks_1_ps_4_nconv_0_nblock' for h in hs]\n",
    "ls=[64]\n",
    "data_path=[[f'data/dataset_2nn/test_unet_periodic_2nn_{l}_l_{h}_h_100_n.npz' for l in ls] for h in hs]"
   ]
  },
  {
   "cell_type": "code",
   "execution_count": 36,
   "metadata": {},
   "outputs": [
    {
     "name": "stdout",
     "output_type": "stream",
     "text": [
      "REDENTnopooling(\n",
      "  (conv_downsample): ModuleList(\n",
      "    (0): Sequential(\n",
      "      (conv1): Conv1d(1, 40, kernel_size=(5,), stride=(1,), padding=(2,), padding_mode=circular)\n",
      "      (activation 1): GELU()\n",
      "    )\n",
      "    (1): Sequential(\n",
      "      (conv2): Conv1d(40, 40, kernel_size=(5,), stride=(1,), padding=(2,), padding_mode=circular)\n",
      "      (activation 2): GELU()\n",
      "    )\n",
      "    (2): Sequential(\n",
      "      (conv3): Conv1d(40, 40, kernel_size=(5,), stride=(1,), padding=(2,), padding_mode=circular)\n",
      "      (activation 3): GELU()\n",
      "    )\n",
      "    (3): Sequential(\n",
      "      (conv4): Conv1d(40, 40, kernel_size=(5,), stride=(1,), padding=(2,), padding_mode=circular)\n",
      "      (activation_4): GELU()\n",
      "    )\n",
      "  )\n",
      "  (conv_upsample): ModuleList(\n",
      "    (0): Sequential(\n",
      "      (trans_conv1): Conv1d(40, 40, kernel_size=(5,), stride=(1,), padding=(2,), padding_mode=circular)\n",
      "      (activation 1): GELU()\n",
      "    )\n",
      "    (1): Sequential(\n",
      "      (trans_conv2): Conv1d(40, 40, kernel_size=(5,), stride=(1,), padding=(2,), padding_mode=circular)\n",
      "      (activation 2): GELU()\n",
      "    )\n",
      "    (2): Sequential(\n",
      "      (trans_conv3): Conv1d(40, 40, kernel_size=(5,), stride=(1,), padding=(2,), padding_mode=circular)\n",
      "      (activation 3): GELU()\n",
      "    )\n",
      "    (3): Sequential(\n",
      "      (trans_conv4): Conv1d(40, 1, kernel_size=(5,), stride=(1,), padding=(2,))\n",
      "    )\n",
      "  )\n",
      "  (Activation): GELU()\n",
      "  (loss): MSELoss()\n",
      ")\n",
      "# parameters=48681\n",
      "R_square_test=0.9999890327453613 for 2nn_ising/h_2.4_15k_unet_periodic_augmentation_[40, 40, 40, 40]_hc_5_ks_1_ps_4_nconv_0_nblock \n",
      "\n",
      "de=2.9080485772993732e-05 std(de)=3.4066553605907527e-06\n",
      "REDENTnopooling(\n",
      "  (conv_downsample): ModuleList(\n",
      "    (0): Sequential(\n",
      "      (conv1): Conv1d(1, 40, kernel_size=(5,), stride=(1,), padding=(2,), padding_mode=circular)\n",
      "      (activation 1): GELU()\n",
      "    )\n",
      "    (1): Sequential(\n",
      "      (conv2): Conv1d(40, 40, kernel_size=(5,), stride=(1,), padding=(2,), padding_mode=circular)\n",
      "      (activation 2): GELU()\n",
      "    )\n",
      "    (2): Sequential(\n",
      "      (conv3): Conv1d(40, 40, kernel_size=(5,), stride=(1,), padding=(2,), padding_mode=circular)\n",
      "      (activation 3): GELU()\n",
      "    )\n",
      "    (3): Sequential(\n",
      "      (conv4): Conv1d(40, 40, kernel_size=(5,), stride=(1,), padding=(2,), padding_mode=circular)\n",
      "      (activation_4): GELU()\n",
      "    )\n",
      "  )\n",
      "  (conv_upsample): ModuleList(\n",
      "    (0): Sequential(\n",
      "      (trans_conv1): Conv1d(40, 40, kernel_size=(5,), stride=(1,), padding=(2,), padding_mode=circular)\n",
      "      (activation 1): GELU()\n",
      "    )\n",
      "    (1): Sequential(\n",
      "      (trans_conv2): Conv1d(40, 40, kernel_size=(5,), stride=(1,), padding=(2,), padding_mode=circular)\n",
      "      (activation 2): GELU()\n",
      "    )\n",
      "    (2): Sequential(\n",
      "      (trans_conv3): Conv1d(40, 40, kernel_size=(5,), stride=(1,), padding=(2,), padding_mode=circular)\n",
      "      (activation 3): GELU()\n",
      "    )\n",
      "    (3): Sequential(\n",
      "      (trans_conv4): Conv1d(40, 1, kernel_size=(5,), stride=(1,), padding=(2,))\n",
      "    )\n",
      "  )\n",
      "  (Activation): GELU()\n",
      "  (loss): MSELoss()\n",
      ")\n",
      "# parameters=48681\n",
      "R_square_test=0.9999600052833557 for 2nn_ising/h_3.6_15k_unet_periodic_augmentation_[40, 40, 40, 40]_hc_5_ks_1_ps_4_nconv_0_nblock \n",
      "\n",
      "de=0.00020989681899816047 std(de)=2.141262143122383e-05\n",
      "REDENTnopooling(\n",
      "  (conv_downsample): ModuleList(\n",
      "    (0): Sequential(\n",
      "      (conv1): Conv1d(1, 40, kernel_size=(5,), stride=(1,), padding=(2,), padding_mode=circular)\n",
      "      (activation 1): GELU()\n",
      "    )\n",
      "    (1): Sequential(\n",
      "      (conv2): Conv1d(40, 40, kernel_size=(5,), stride=(1,), padding=(2,), padding_mode=circular)\n",
      "      (activation 2): GELU()\n",
      "    )\n",
      "    (2): Sequential(\n",
      "      (conv3): Conv1d(40, 40, kernel_size=(5,), stride=(1,), padding=(2,), padding_mode=circular)\n",
      "      (activation 3): GELU()\n",
      "    )\n",
      "    (3): Sequential(\n",
      "      (conv4): Conv1d(40, 40, kernel_size=(5,), stride=(1,), padding=(2,), padding_mode=circular)\n",
      "      (activation_4): GELU()\n",
      "    )\n",
      "  )\n",
      "  (conv_upsample): ModuleList(\n",
      "    (0): Sequential(\n",
      "      (trans_conv1): Conv1d(40, 40, kernel_size=(5,), stride=(1,), padding=(2,), padding_mode=circular)\n",
      "      (activation 1): GELU()\n",
      "    )\n",
      "    (1): Sequential(\n",
      "      (trans_conv2): Conv1d(40, 40, kernel_size=(5,), stride=(1,), padding=(2,), padding_mode=circular)\n",
      "      (activation 2): GELU()\n",
      "    )\n",
      "    (2): Sequential(\n",
      "      (trans_conv3): Conv1d(40, 40, kernel_size=(5,), stride=(1,), padding=(2,), padding_mode=circular)\n",
      "      (activation 3): GELU()\n",
      "    )\n",
      "    (3): Sequential(\n",
      "      (trans_conv4): Conv1d(40, 1, kernel_size=(5,), stride=(1,), padding=(2,))\n",
      "    )\n",
      "  )\n",
      "  (Activation): GELU()\n",
      "  (loss): MSELoss()\n",
      ")\n",
      "# parameters=48681\n",
      "R_square_test=0.9996334910392761 for 2nn_ising/h_5.44_15k_unet_periodic_augmentation_[40, 40, 40, 40]_hc_5_ks_1_ps_4_nconv_0_nblock \n",
      "\n",
      "de=0.0017347556874996626 std(de)=0.00012046487108028628\n",
      "REDENTnopooling(\n",
      "  (conv_downsample): ModuleList(\n",
      "    (0): Sequential(\n",
      "      (conv1): Conv1d(1, 40, kernel_size=(5,), stride=(1,), padding=(2,), padding_mode=circular)\n",
      "      (activation 1): GELU()\n",
      "    )\n",
      "    (1): Sequential(\n",
      "      (conv2): Conv1d(40, 40, kernel_size=(5,), stride=(1,), padding=(2,), padding_mode=circular)\n",
      "      (activation 2): GELU()\n",
      "    )\n",
      "    (2): Sequential(\n",
      "      (conv3): Conv1d(40, 40, kernel_size=(5,), stride=(1,), padding=(2,), padding_mode=circular)\n",
      "      (activation 3): GELU()\n",
      "    )\n",
      "    (3): Sequential(\n",
      "      (conv4): Conv1d(40, 40, kernel_size=(5,), stride=(1,), padding=(2,), padding_mode=circular)\n",
      "      (activation_4): GELU()\n",
      "    )\n",
      "  )\n",
      "  (conv_upsample): ModuleList(\n",
      "    (0): Sequential(\n",
      "      (trans_conv1): Conv1d(40, 40, kernel_size=(5,), stride=(1,), padding=(2,), padding_mode=circular)\n",
      "      (activation 1): GELU()\n",
      "    )\n",
      "    (1): Sequential(\n",
      "      (trans_conv2): Conv1d(40, 40, kernel_size=(5,), stride=(1,), padding=(2,), padding_mode=circular)\n",
      "      (activation 2): GELU()\n",
      "    )\n",
      "    (2): Sequential(\n",
      "      (trans_conv3): Conv1d(40, 40, kernel_size=(5,), stride=(1,), padding=(2,), padding_mode=circular)\n",
      "      (activation 3): GELU()\n",
      "    )\n",
      "    (3): Sequential(\n",
      "      (trans_conv4): Conv1d(40, 1, kernel_size=(5,), stride=(1,), padding=(2,))\n",
      "    )\n",
      "  )\n",
      "  (Activation): GELU()\n",
      "  (loss): MSELoss()\n",
      ")\n",
      "# parameters=48681\n",
      "R_square_test=0.9993885159492493 for 2nn_ising/h_7.2_15k_unet_periodic_augmentation_[40, 40, 40, 40]_hc_5_ks_1_ps_4_nconv_0_nblock \n",
      "\n",
      "de=0.003800557692815131 std(de)=0.00022481988376641545\n",
      "REDENTnopooling(\n",
      "  (conv_downsample): ModuleList(\n",
      "    (0): Sequential(\n",
      "      (conv1): Conv1d(1, 40, kernel_size=(5,), stride=(1,), padding=(2,), padding_mode=circular)\n",
      "      (activation 1): GELU()\n",
      "    )\n",
      "    (1): Sequential(\n",
      "      (conv2): Conv1d(40, 40, kernel_size=(5,), stride=(1,), padding=(2,), padding_mode=circular)\n",
      "      (activation 2): GELU()\n",
      "    )\n",
      "    (2): Sequential(\n",
      "      (conv3): Conv1d(40, 40, kernel_size=(5,), stride=(1,), padding=(2,), padding_mode=circular)\n",
      "      (activation 3): GELU()\n",
      "    )\n",
      "    (3): Sequential(\n",
      "      (conv4): Conv1d(40, 40, kernel_size=(5,), stride=(1,), padding=(2,), padding_mode=circular)\n",
      "      (activation_4): GELU()\n",
      "    )\n",
      "  )\n",
      "  (conv_upsample): ModuleList(\n",
      "    (0): Sequential(\n",
      "      (trans_conv1): Conv1d(40, 40, kernel_size=(5,), stride=(1,), padding=(2,), padding_mode=circular)\n",
      "      (activation 1): GELU()\n",
      "    )\n",
      "    (1): Sequential(\n",
      "      (trans_conv2): Conv1d(40, 40, kernel_size=(5,), stride=(1,), padding=(2,), padding_mode=circular)\n",
      "      (activation 2): GELU()\n",
      "    )\n",
      "    (2): Sequential(\n",
      "      (trans_conv3): Conv1d(40, 40, kernel_size=(5,), stride=(1,), padding=(2,), padding_mode=circular)\n",
      "      (activation 3): GELU()\n",
      "    )\n",
      "    (3): Sequential(\n",
      "      (trans_conv4): Conv1d(40, 1, kernel_size=(5,), stride=(1,), padding=(2,))\n",
      "    )\n",
      "  )\n",
      "  (Activation): GELU()\n",
      "  (loss): MSELoss()\n",
      ")\n",
      "# parameters=48681\n",
      "R_square_test=0.9993076920509338 for 2nn_ising/h_8.4_15k_unet_periodic_augmentation_[40, 40, 40, 40]_hc_5_ks_1_ps_4_nconv_0_nblock \n",
      "\n",
      "de=0.0041171837792572516 std(de)=0.0002827467332665489\n"
     ]
    },
    {
     "name": "stderr",
     "output_type": "stream",
     "text": [
      "/home/ecosta/dft_for_ising/src/training/utils_analysis.py:118: UserWarning: To copy construct from a tensor, it is recommended to use sourceTensor.clone().detach() or sourceTensor.clone().detach().requires_grad_(True), rather than torch.tensor(sourceTensor).\n",
      "  energy = Energy_unet(model, pt.tensor(v, dtype=pt.double))\n"
     ]
    }
   ],
   "source": [
    "rs=[]\n",
    "des=[]\n",
    "devdes=[]\n",
    "for i in range(len(models_name)):\n",
    "    r,de,devde=test_models_unet(models_name=[models_name[i] for j in range(len(data_path[i]))],data_path=data_path[i])\n",
    "    rs.append(r)\n",
    "    des.append(de)\n",
    "    devdes.append(devde)  "
   ]
  },
  {
   "cell_type": "markdown",
   "metadata": {},
   "source": [
    "#### Accuracy"
   ]
  },
  {
   "cell_type": "markdown",
   "metadata": {},
   "source": [
    "$R^2$"
   ]
  },
  {
   "cell_type": "code",
   "execution_count": 37,
   "metadata": {},
   "outputs": [
    {
     "name": "stdout",
     "output_type": "stream",
     "text": [
      "1\n"
     ]
    },
    {
     "data": {
      "image/png": "[encoded data removed]",
      "text/plain": [
       "<Figure size 720x720 with 1 Axes>"
      ]
     },
     "metadata": {
      "needs_background": "light"
     },
     "output_type": "display_data"
    }
   ],
   "source": [
    "print(len(rs[i]))\n",
    "plt.figure(figsize=(10,10))\n",
    "for i in range(len(models_name)):\n",
    "    plt.plot(ls,rs[i],marker='o',label=f'h={hs[i]}')\n",
    "plt.xlabel(r'$l$',fontsize=20)\n",
    "plt.ylabel(r'$R^2$',fontsize=20)\n",
    "plt.legend(fontsize=30)\n",
    "plt.show()"
   ]
  },
  {
   "cell_type": "markdown",
   "metadata": {},
   "source": [
    "Energy"
   ]
  },
  {
   "cell_type": "code",
   "execution_count": 38,
   "metadata": {},
   "outputs": [
    {
     "data": {
      "image/png": "[encoded data removed]",
      "text/plain": [
       "<Figure size 720x720 with 1 Axes>"
      ]
     },
     "metadata": {
      "needs_background": "light"
     },
     "output_type": "display_data"
    }
   ],
   "source": [
    "plt.figure(figsize=(10,10))\n",
    "for i in range(len(models_name)):\n",
    "    plt.errorbar(ls,des[i],yerr=devde,marker='o',label=f'h={hs[i]}')\n",
    "plt.legend(fontsize=20)\n",
    "plt.semilogy()\n",
    "plt.xlabel(r'$l$',fontsize=20)\n",
    "plt.ylabel(r'$\\langle \\langle|f_{gs}-f_{ML}|/|f_{gs}| \\rangle \\rangle$',fontsize=20)\n",
    "plt.show()"
   ]
  },
  {
   "cell_type": "markdown",
   "metadata": {},
   "source": [
    "#### Gradient Analysis"
   ]
  },
  {
   "cell_type": "code",
   "execution_count": 39,
   "metadata": {},
   "outputs": [],
   "source": [
    "ndata=100\n",
    "g_accs=[]\n",
    "dev_g=[]\n",
    "for j in range(len(models_name)):\n",
    "    g_acc = []\n",
    "    for i in range(len(ls)):\n",
    "        data=np.load(data_path[j][i])\n",
    "        m=data['density']\n",
    "        v=data['potential']\n",
    "        model=torch.load(\n",
    "            \"model_rep/\"+models_name[j],\n",
    "            map_location=\"cpu\",\n",
    "        )\n",
    "        x = m[:ndata]\n",
    "        x = torch.tensor(x, dtype=torch.double)\n",
    "        x.requires_grad_(True)\n",
    "        f = torch.mean(model(x), dim=-1)\n",
    "        # print(f.shape)\n",
    "        f.backward(torch.ones_like(f))\n",
    "        with torch.no_grad():\n",
    "            grad = x.grad\n",
    "            grad = -ls[i] * grad.detach().numpy()\n",
    "            pseudo_pot = grad\n",
    "        # print(grad.shape)\n",
    "        g_acc.append(\n",
    "            np.sqrt(np.average((grad - v[:ndata]) ** 2, axis=-1))\n",
    "            / np.sqrt(np.average((v[:ndata]) ** 2, axis=-1))\n",
    "        )\n",
    "\n",
    "    dev_g.append([np.std(g) for g in g_acc])\n",
    "    g_acc = [np.average(g) for g in g_acc]\n",
    "    g_accs.append(g_acc)"
   ]
  },
  {
   "cell_type": "markdown",
   "metadata": {},
   "source": [
    "#### Plots"
   ]
  },
  {
   "cell_type": "code",
   "execution_count": 40,
   "metadata": {},
   "outputs": [
    {
     "data": {
      "image/png": "[encoded data removed]",
      "text/plain": [
       "<Figure size 720x720 with 1 Axes>"
      ]
     },
     "metadata": {
      "needs_background": "light"
     },
     "output_type": "display_data"
    }
   ],
   "source": [
    "plt.figure(figsize=(10,10))\n",
    "for i in range(len(models_name)):\n",
    "    plt.errorbar(ls,g_accs[i],yerr=dev_g[i],marker='o',label=f'h={hs[i]}')\n",
    "plt.xlabel(r'$l$',fontsize=20)\n",
    "plt.ylabel(r'$\\langle \\langle |\\Delta \\frac{\\partial F}{\\partial z_i} |/|\\frac{\\partial F}{\\partial z_i}| \\rangle \\rangle$',fontsize=20)\n",
    "plt.legend(fontsize=20)\n",
    "plt.show()"
   ]
  },
  {
   "cell_type": "markdown",
   "metadata": {},
   "source": [
    "#### Finding the critical point computing the Hessian of the functional"
   ]
  },
  {
   "cell_type": "markdown",
   "metadata": {},
   "source": [
    "#### Data"
   ]
  },
  {
   "cell_type": "code",
   "execution_count": 41,
   "metadata": {},
   "outputs": [
    {
     "data": {
      "application/vnd.jupyter.widget-view+json": {
       "model_id": "a9ff04b7fc72418e9cac13ccc519c858",
       "version_major": 2,
       "version_minor": 0
      },
      "text/plain": [
       "  0%|          | 0/5 [00:00<?, ?it/s]"
      ]
     },
     "metadata": {},
     "output_type": "display_data"
    },
    {
     "name": "stdout",
     "output_type": "stream",
     "text": [
      "2.4\n",
      "64\n"
     ]
    },
    {
     "data": {
      "application/vnd.jupyter.widget-view+json": {
       "model_id": "a58918f90b684bf4b5ce11c36985f10e",
       "version_major": 2,
       "version_minor": 0
      },
      "text/plain": [
       "  0%|          | 0/99 [00:00<?, ?it/s]"
      ]
     },
     "metadata": {},
     "output_type": "display_data"
    },
    {
     "name": "stdout",
     "output_type": "stream",
     "text": [
      "0.0005180361091926039 2.4 64\n",
      "0.14870823164938737 2.4 64\n",
      "3.6\n",
      "64\n"
     ]
    },
    {
     "data": {
      "application/vnd.jupyter.widget-view+json": {
       "model_id": "d553ebe438e14349a328bf537dc96738",
       "version_major": 2,
       "version_minor": 0
      },
      "text/plain": [
       "  0%|          | 0/99 [00:00<?, ?it/s]"
      ]
     },
     "metadata": {},
     "output_type": "display_data"
    },
    {
     "name": "stdout",
     "output_type": "stream",
     "text": [
      "0.0003874862142654918 3.6 64\n",
      "0.13261626550997546 3.6 64\n",
      "5.44\n",
      "64\n"
     ]
    },
    {
     "data": {
      "application/vnd.jupyter.widget-view+json": {
       "model_id": "e51370dda7a14f12829de8ba8f805273",
       "version_major": 2,
       "version_minor": 0
      },
      "text/plain": [
       "  0%|          | 0/99 [00:00<?, ?it/s]"
      ]
     },
     "metadata": {},
     "output_type": "display_data"
    },
    {
     "name": "stdout",
     "output_type": "stream",
     "text": [
      "0.00010484890555670198 5.44 64\n",
      "0.11555039447268035 5.44 64\n",
      "7.2\n",
      "64\n"
     ]
    },
    {
     "data": {
      "application/vnd.jupyter.widget-view+json": {
       "model_id": "edec0034c353471e994f21ddd5662d25",
       "version_major": 2,
       "version_minor": 0
      },
      "text/plain": [
       "  0%|          | 0/99 [00:00<?, ?it/s]"
      ]
     },
     "metadata": {},
     "output_type": "display_data"
    },
    {
     "name": "stdout",
     "output_type": "stream",
     "text": [
      "0.00010808358945492458 7.2 64\n",
      "0.08188305282184714 7.2 64\n",
      "8.4\n",
      "64\n"
     ]
    },
    {
     "data": {
      "application/vnd.jupyter.widget-view+json": {
       "model_id": "3931244fc2ad4112a2e9e3f410794dd7",
       "version_major": 2,
       "version_minor": 0
      },
      "text/plain": [
       "  0%|          | 0/99 [00:00<?, ?it/s]"
      ]
     },
     "metadata": {},
     "output_type": "display_data"
    },
    {
     "name": "stdout",
     "output_type": "stream",
     "text": [
      "-0.1585561330113186 8.4 64\n",
      "0.03846455325861769 8.4 64\n"
     ]
    }
   ],
   "source": [
    "import torch                                                                                          \n",
    "                                                                                                      \n",
    "def jacobian(y, x, create_graph=False):                                                               \n",
    "    jac = []                                                                                          \n",
    "    flat_y = y.reshape(-1)                                                                            \n",
    "    grad_y = torch.zeros_like(flat_y)                                                                 \n",
    "    for i in range(len(flat_y)):                                                                      \n",
    "        grad_y[i] = 1.                                                                                \n",
    "        grad_x, = torch.autograd.grad(flat_y, x, grad_y, retain_graph=True, create_graph=create_graph)\n",
    "        jac.append(grad_x.reshape(x.shape))                                                           \n",
    "        grad_y[i] = 0.                                                                                \n",
    "    return torch.stack(jac).reshape(y.shape + x.shape)                                                \n",
    "                                                                                                      \n",
    "def hessian(y, x):                                                                                    \n",
    "    return jacobian(jacobian(y, x, create_graph=True), x)    \n",
    "\n",
    "ndata=100\n",
    "f_xxs=[]\n",
    "av_lambda_l=[]\n",
    "fhh_l=[]\n",
    "for j in trange(len(models_name)):\n",
    "    print(hs[j])\n",
    "    model=torch.load(\n",
    "            \"model_rep/\"+models_name[j],\n",
    "            map_location=\"cuda\",\n",
    "            )\n",
    "    avl=[]\n",
    "    fhhl=[]\n",
    "    for i in range(len(ls)):\n",
    "        print(ls[i])\n",
    "        data=np.load(data_path[j][i])\n",
    "        m=data['density']\n",
    "        av_lambda=0.\n",
    "        av_f_hh=0.\n",
    "        for idx in trange(ndata-1):\n",
    "            x = m[idx:(idx+1)]\n",
    "            x = torch.tensor(x, dtype=torch.double,device='cuda')\n",
    "            x.requires_grad_(True)\n",
    "            f_xx=hessian(model.functional(x),x).detach().cpu().numpy().reshape(ls[i],ls[i])\n",
    "            lambd,_=np.linalg.eig(f_xx)\n",
    "            av_f_hh=+np.average(1/np.abs(lambd))            \n",
    "            lambd=np.min(lambd)\n",
    "            av_lambda=+lambd            \n",
    "        av_lambda=av_lambda/(ndata-1)\n",
    "        av_f_hh=av_f_hh/(ndata-1)\n",
    "        print(av_lambda,hs[j],ls[i])\n",
    "        print(av_f_hh,hs[j],ls[i])\n",
    "        avl.append(av_lambda)\n",
    "        fhhl.append(av_f_hh)\n",
    "    av_lambda_l.append(avl)\n",
    "    fhh_l.append(fhhl)\n",
    "    \n",
    "            \n",
    "                \n",
    "        \n",
    "        \n"
   ]
  },
  {
   "cell_type": "code",
   "execution_count": 47,
   "metadata": {},
   "outputs": [
    {
     "data": {
      "image/png": "[encoded data removed]",
      "text/plain": [
       "<Figure size 432x288 with 1 Axes>"
      ]
     },
     "metadata": {
      "needs_background": "light"
     },
     "output_type": "display_data"
    }
   ],
   "source": [
    "\n",
    "# for i in range(len(hs)-1):\n",
    "#     plt.plot(ls,av_lambda_l[i],label=f'h={hs[i]}')\n",
    "# plt.legend()\n",
    "# plt.show()\n",
    "\n",
    "for i in range(len(ls)):\n",
    "    plt.plot(hs,[fhh_l[j][0]  for j in range(len(hs))])\n",
    "plt.show()"
   ]
  }
 ],
 "metadata": {
  "kernelspec": {
   "display_name": "dft_env",
   "language": "python",
   "name": "python3"
  },
  "language_info": {
   "codemirror_mode": {
    "name": "ipython",
    "version": 3
   },
   "file_extension": ".py",
   "mimetype": "text/x-python",
   "name": "python",
   "nbconvert_exporter": "python",
   "pygments_lexer": "ipython3",
   "version": "3.9.7 (default, Sep 16 2021, 13:09:58) \n[GCC 7.5.0]"
  },
  "orig_nbformat": 4,
  "vscode": {
   "interpreter": {
    "hash": "3416549d97ad3983cc214976bd6ebb80476d6adba7fb7d54f1e9017c835c1c82"
   }
  }
 },
 "nbformat": 4,
 "nbformat_minor": 2
}
