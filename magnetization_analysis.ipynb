{
 "cells": [
  {
   "cell_type": "markdown",
   "metadata": {},
   "source": [
    "## Analysis of the Magnetization mapping $\\sigma^{z} \\rightarrow \\sigma^{x} $"
   ]
  },
  {
   "cell_type": "markdown",
   "metadata": {},
   "source": [
    "#### Imports"
   ]
  },
  {
   "cell_type": "code",
   "execution_count": 1,
   "metadata": {},
   "outputs": [],
   "source": [
    "import os\n",
    "import time\n",
    "\n",
    "import matplotlib.pyplot as plt\n",
    "import numpy as np\n",
    "import torch\n",
    "import torch.nn as nn\n",
    "from tqdm.notebook import tqdm, trange\n"
   ]
  },
  {
   "cell_type": "markdown",
   "metadata": {},
   "source": [
    "### Part (a) Study the scaling property at different $h_{max} $"
   ]
  },
  {
   "cell_type": "markdown",
   "metadata": {},
   "source": [
    "#### Data"
   ]
  },
  {
   "cell_type": "code",
   "execution_count": 27,
   "metadata": {},
   "outputs": [
    {
     "name": "stdout",
     "output_type": "stream",
     "text": [
      "0\n",
      "1\n",
      "2\n",
      "3\n"
     ]
    }
   ],
   "source": [
    "h_max=1.0 #field\n",
    "ls=[16,32,64,128] #sizes\n",
    "ns=[100,100,100,100] #samples\n",
    "\n",
    "\n",
    "xs_ml={} # sigma_x ml\n",
    "xs={} # sigma_x exact\n",
    "zs={} # sigma_z exact\n",
    "for i in range(len(ls)):\n",
    "    print(i)\n",
    "\n",
    "    # load the data\n",
    "    data=np.load(f'data/den2magn_dataset_1nn/test_unet_periodic_1nn_l_{ls[i]}_h_{h_max}_ndata_{ns[i]}.npz')\n",
    "    # target  \n",
    "    x=torch.tensor(data['magnetization_x'],dtype=torch.double)\n",
    "    # input\n",
    "    z=torch.tensor(data['density'],dtype=torch.double)\n",
    "    # load the model and compute xs_ml\n",
    "    model=torch.load(f'model_rep/1nn_den2magn/h_{h_max}_15k_unet_periodic_den2magn_[20, 40]_hc_5_ks_2_ps_2_nconv_0_nblock',map_location='cpu')\n",
    "    x_ml=model(z).detach().numpy()\n",
    "    xs_ml[ls[i]]=np.abs(x_ml)\n",
    "    xs[ls[i]]=np.abs(x.detach().numpy()) \n",
    "    zs[ls[i]]=z.detach().numpy()\n"
   ]
  },
  {
   "cell_type": "markdown",
   "metadata": {},
   "source": [
    "We predict the magnetization up to a sign. We found inconsistency in the sign of $\\sigma^x$ in the target dataset (DMRG problems? perturbation too low?)"
   ]
  },
  {
   "cell_type": "markdown",
   "metadata": {},
   "source": [
    "#### $ |\\Delta x|$ vs $l$"
   ]
  },
  {
   "cell_type": "markdown",
   "metadata": {},
   "source": [
    "According to the $L_2$ metric we compute the error:\n",
    "\n",
    "$\\langle \\langle|\\Delta x| \\rangle \\rangle =\\frac{1}{N_{batch}}\\sum^{N_{batch}}_i |\\vec{x_i}-\\vec{x_{ml,i}}|/|\\vec{x_i}|$"
   ]
  },
  {
   "cell_type": "code",
   "execution_count": 28,
   "metadata": {},
   "outputs": [
    {
     "data": {
      "image/png": "[encoded data removed]",
      "text/plain": [
       "<Figure size 432x288 with 1 Axes>"
      ]
     },
     "metadata": {
      "needs_background": "light"
     },
     "output_type": "display_data"
    }
   ],
   "source": [
    "dxs=[]\n",
    "#compute the error for each size\n",
    "for l in ls:\n",
    "    dx= np.average( np.sqrt( np.average((xs[l]-xs_ml[l])**2,axis=-1))/np.sqrt(np.average((xs[l])**2,axis=-1))  )\n",
    "    dxs.append(dx)\n",
    "    \n",
    "#plot the behaviour\n",
    "#plt.figure(figsize=(10,10))\n",
    "plt.plot(ls,dxs)\n",
    "plt.xlabel(r'$l$',fontsize=20)\n",
    "plt.ylabel(r'$|\\Delta x|$',fontsize=20)\n",
    "plt.show()"
   ]
  }
 ],
 "metadata": {
  "kernelspec": {
   "display_name": "base",
   "language": "python",
   "name": "python3"
  },
  "language_info": {
   "codemirror_mode": {
    "name": "ipython",
    "version": 3
   },
   "file_extension": ".py",
   "mimetype": "text/x-python",
   "name": "python",
   "nbconvert_exporter": "python",
   "pygments_lexer": "ipython3",
   "version": "3.9.7"
  },
  "orig_nbformat": 4,
  "vscode": {
   "interpreter": {
    "hash": "40d3a090f54c6569ab1632332b64b2c03c39dcf918b08424e98f38b5ae0af88f"
   }
  }
 },
 "nbformat": 4,
 "nbformat_minor": 2
}
